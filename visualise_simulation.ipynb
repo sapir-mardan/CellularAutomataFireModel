{
 "cells": [
  {
   "cell_type": "code",
   "execution_count": 3,
   "id": "dd0f3059",
   "metadata": {},
   "outputs": [],
   "source": [
    "import numpy as np\n",
    "import matplotlib.pyplot as plt\n",
    "from matplotlib.colors import ListedColormap\n",
    "from matplotlib.animation import FuncAnimation\n",
    "from IPython.display import HTML\n",
    "import seaborn as sns"
   ]
  },
  {
   "cell_type": "markdown",
   "id": "9407537c",
   "metadata": {},
   "source": [
    "## Visualise a Simulation\n",
    "\n",
    "To visualise a simulation as graph and animation:\n",
    "\n",
    "1. **Run a simulation (execute the \"run_simulation\" function in the simulation.py) with parameters of interest and the parameter \"visualise\" set to True.** The results will be saved as \"states_simulation\" in the \"results\" directory. Each run overwrites the previous one. \n",
    "\n",
    "2. **Run all code in this Jupyter notebook.** The data from \"states_simulation\" will load and provide a visual representation of the simulation."
   ]
  },
  {
   "cell_type": "code",
   "execution_count": 4,
   "id": "cf3ee16d",
   "metadata": {},
   "outputs": [],
   "source": [
    "def create_animation(states):\n",
    "    # custom colors for EMTY, TREE, FIRE and FIRE_SPREADING\n",
    "    colors = [(0.4, 0.2, 0),(0.2, 0.8, 0.2), (1, 0, 0), (1, 0, 0)]\n",
    "\n",
    "    custom_cmap = ListedColormap(colors)\n",
    "\n",
    "    # Set up the figure and remove axis\n",
    "    fig, ax = plt.subplots(constrained_layout=True)\n",
    "    ax.axis(\"off\")\n",
    "\n",
    "    # Initial plot\n",
    "    array_plot = ax.imshow(\n",
    "        states[0],\n",
    "        vmin=0,\n",
    "        vmax=(len(colors)-1),\n",
    "        animated=True,\n",
    "        cmap=custom_cmap\n",
    "    )\n",
    "\n",
    "    # Animation update function\n",
    "    def update(frame):\n",
    "        ax.set_title(f'Time Step: {frame}')\n",
    "        array_plot.set_array(states[frame])\n",
    "        return [array_plot]\n",
    "\n",
    "    # Create animation\n",
    "    num_frames = states.shape[0]\n",
    "    ani = FuncAnimation(fig, update, frames=num_frames, interval=1000)\n",
    "    html_representation = HTML(ani.to_jshtml())\n",
    "    \n",
    "    # Close the figure to prevent it from being displayed\n",
    "    plt.close(fig)\n",
    "    return html_representation\n",
    "\n",
    "def visualise(file_name):\n",
    "    with np.load(file_name) as file:\n",
    "        value_history = file[\"state\"]\n",
    "        trees, fires = file[\"perc\"][0], file[\"perc\"][1]\n",
    "        grid_size, num_states, f_rate, p_rate, r_rate =  file[\"grid\"], file[\"state\"].shape[0], file[\"f\"], file[\"p\"], file[\"r\"]\n",
    "        steady_state = file[\"steady\"]\n",
    "        \n",
    "        #print which simulation is ploting:\n",
    "        print('\\033[4m' + f\"Simulation of Parameters; grid {grid_size}, {num_states} states, f {f_rate}, p {p_rate}, r {r_rate}:\" + \"\\033[0m\")\n",
    "        print(\"Reached steady-state.\") if steady_state else print(\"Did not reach steady-state.\")\n",
    "        \n",
    "        #create graph:\n",
    "        plt.figure(figsize=(10, 6))\n",
    "\n",
    "        plt.plot(trees, label=\"%trees\", linewidth=1)  \n",
    "        plt.plot(fires, label=\"%fires\", linewidth=1)\n",
    "        plt.hlines(y=f_rate, xmin=0, xmax=len(trees)-1, label=f\"f {f_rate}\", linewidth=1, linestyle='--', color='green')\n",
    "\n",
    "        plt.grid(True, linestyle=\"--\", alpha=0.7)\n",
    "        plt.xlabel(\"Time Step\", fontsize=15) \n",
    "        plt.legend(fontsize=14)\n",
    "        plt.show()\n",
    "    \n",
    "        #create animation:\n",
    "        return create_animation(value_history)"
   ]
  },
  {
   "cell_type": "code",
   "execution_count": 5,
   "id": "ba28610f",
   "metadata": {},
   "outputs": [
    {
     "ename": "FileNotFoundError",
     "evalue": "[Errno 2] No such file or directory: 'results/states_simulation.npz'",
     "output_type": "error",
     "traceback": [
      "\u001b[0;31m---------------------------------------------------------------------------\u001b[0m",
      "\u001b[0;31mFileNotFoundError\u001b[0m                         Traceback (most recent call last)",
      "Cell \u001b[0;32mIn[5], line 1\u001b[0m\n\u001b[0;32m----> 1\u001b[0m visualise(\u001b[38;5;124m\"\u001b[39m\u001b[38;5;124mresults/states_simulation.npz\u001b[39m\u001b[38;5;124m\"\u001b[39m)\n",
      "Cell \u001b[0;32mIn[4], line 36\u001b[0m, in \u001b[0;36mvisualise\u001b[0;34m(file_name)\u001b[0m\n\u001b[1;32m     35\u001b[0m \u001b[38;5;28;01mdef\u001b[39;00m \u001b[38;5;21mvisualise\u001b[39m(file_name):\n\u001b[0;32m---> 36\u001b[0m     \u001b[38;5;28;01mwith\u001b[39;00m np\u001b[38;5;241m.\u001b[39mload(file_name) \u001b[38;5;28;01mas\u001b[39;00m file:\n\u001b[1;32m     37\u001b[0m         value_history \u001b[38;5;241m=\u001b[39m file[\u001b[38;5;124m\"\u001b[39m\u001b[38;5;124mstate\u001b[39m\u001b[38;5;124m\"\u001b[39m]\n\u001b[1;32m     38\u001b[0m         trees, fires \u001b[38;5;241m=\u001b[39m file[\u001b[38;5;124m\"\u001b[39m\u001b[38;5;124mperc\u001b[39m\u001b[38;5;124m\"\u001b[39m][\u001b[38;5;241m0\u001b[39m], file[\u001b[38;5;124m\"\u001b[39m\u001b[38;5;124mperc\u001b[39m\u001b[38;5;124m\"\u001b[39m][\u001b[38;5;241m1\u001b[39m]\n",
      "File \u001b[0;32m~/anaconda3/lib/python3.11/site-packages/numpy/lib/npyio.py:405\u001b[0m, in \u001b[0;36mload\u001b[0;34m(file, mmap_mode, allow_pickle, fix_imports, encoding, max_header_size)\u001b[0m\n\u001b[1;32m    403\u001b[0m     own_fid \u001b[38;5;241m=\u001b[39m \u001b[38;5;28;01mFalse\u001b[39;00m\n\u001b[1;32m    404\u001b[0m \u001b[38;5;28;01melse\u001b[39;00m:\n\u001b[0;32m--> 405\u001b[0m     fid \u001b[38;5;241m=\u001b[39m stack\u001b[38;5;241m.\u001b[39menter_context(\u001b[38;5;28mopen\u001b[39m(os_fspath(file), \u001b[38;5;124m\"\u001b[39m\u001b[38;5;124mrb\u001b[39m\u001b[38;5;124m\"\u001b[39m))\n\u001b[1;32m    406\u001b[0m     own_fid \u001b[38;5;241m=\u001b[39m \u001b[38;5;28;01mTrue\u001b[39;00m\n\u001b[1;32m    408\u001b[0m \u001b[38;5;66;03m# Code to distinguish from NumPy binary files and pickles.\u001b[39;00m\n",
      "\u001b[0;31mFileNotFoundError\u001b[0m: [Errno 2] No such file or directory: 'results/states_simulation.npz'"
     ]
    }
   ],
   "source": [
    "visualise(\"results/states_simulation.npz\")"
   ]
  },
  {
   "cell_type": "code",
   "execution_count": null,
   "id": "4713f1e2",
   "metadata": {},
   "outputs": [],
   "source": []
  }
 ],
 "metadata": {
  "kernelspec": {
   "display_name": "Python 3 (ipykernel)",
   "language": "python",
   "name": "python3"
  },
  "language_info": {
   "codemirror_mode": {
    "name": "ipython",
    "version": 3
   },
   "file_extension": ".py",
   "mimetype": "text/x-python",
   "name": "python",
   "nbconvert_exporter": "python",
   "pygments_lexer": "ipython3",
   "version": "3.11.4"
  }
 },
 "nbformat": 4,
 "nbformat_minor": 5
}
